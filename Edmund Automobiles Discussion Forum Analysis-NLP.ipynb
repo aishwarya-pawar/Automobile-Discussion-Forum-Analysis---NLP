{
 "cells": [
  {
   "cell_type": "markdown",
   "metadata": {},
   "source": [
    "## Edmunds Discssion Forum Analysis - Automobile Industry - NLP"
   ]
  },
  {
   "cell_type": "markdown",
   "metadata": {},
   "source": [
    "### Objective: \n",
    "To Analyze Edmund cars discussion forum to understand the brand similarites, their association with other brnads and important attributes. The following questions were answered in this analysis:\n",
    "    1. Which brands are significantly associated (mentioned together) with each other?\n",
    "    2. Which attributes each brand is associated with\n",
    "    3. Which are the most aspirational brands in terms of people actually wanting to buy or own? "
   ]
  },
  {
   "cell_type": "markdown",
   "metadata": {},
   "source": [
    "### Scraper\n",
    "\n",
    "The URL that I scraped data from is 'https://forums.edmunds.com/discussion/7526/general/x/midsize-sedans-2-0'. I fetched data from 539 pages which included posts from 2007 to 2019. I chose to pick 10000 posts from 2007 onwards.\n",
    "\n",
    "The scraper code was implemented on Google Colab."
   ]
  },
  {
   "cell_type": "markdown",
   "metadata": {},
   "source": [
    "#### Note: Run the below code on Google Colab"
   ]
  },
  {
   "cell_type": "code",
   "execution_count": 1,
   "metadata": {},
   "outputs": [
    {
     "name": "stdout",
     "output_type": "stream",
     "text": [
      "^C\n"
     ]
    },
    {
     "name": "stderr",
     "output_type": "stream",
     "text": [
      "'apt-get' is not recognized as an internal or external command,\n",
      "operable program or batch file.\n",
      "'apt' is not recognized as an internal or external command,\n",
      "operable program or batch file.\n",
      "'cp' is not recognized as an internal or external command,\n",
      "operable program or batch file.\n"
     ]
    }
   ],
   "source": [
    "#!kill -9 -1 # Use this line to delete this VM and start a new one. \n",
    "# The above line deletes all files and folders from the current VM and allocates a new one.\n",
    "\n",
    "!pip install selenium\n",
    "!apt-get -q update # to update ubuntu to correctly run apt install\n",
    "!apt install -yq chromium-chromedriver\n",
    "!cp /usr/lib/chromium-browser/chromedriver /usr/bin"
   ]
  },
  {
   "cell_type": "code",
   "execution_count": null,
   "metadata": {},
   "outputs": [],
   "source": [
    "import sys\n",
    "sys.path.insert(0,'/usr/lib/chromium-browser/chromedriver')\n",
    "from selenium import webdriver\n",
    "chrome_options = webdriver.ChromeOptions()\n",
    "chrome_options.add_argument('--headless')\n",
    "chrome_options.add_argument('--no-sandbox')\n",
    "chrome_options.add_argument('--disable-dev-shm-usage')"
   ]
  },
  {
   "cell_type": "code",
   "execution_count": null,
   "metadata": {},
   "outputs": [],
   "source": [
    "import pandas as pd\n",
    "driver = webdriver.Chrome('chromedriver', options=chrome_options)\n",
    "df_edmund = pd.DataFrame(columns = ['Date','user_id','comments']) "
   ]
  },
  {
   "cell_type": "code",
   "execution_count": null,
   "metadata": {},
   "outputs": [],
   "source": [
    "for j in range(1,539):\n",
    "  url_1='https://forums.edmunds.com/discussion/7526/general/x/midsize-sedans-2-0/p'+str(j)\n",
    "  driver.get(url_1)\n",
    "  #Each page has 50 comments . Total number of pages: 539\n",
    "  for i in range(1,50):\n",
    "    # Extract user ID\n",
    "    xpath_user='/html/body/div[1]/main/div/div[3]/div[5]/div[1]/ul/li['+ str(i) +']/div/div[2]/div[1]/span[1]/a[2]'\n",
    "    userid_element = driver.find_elements_by_xpath(xpath_user)[0]\n",
    "    userid = userid_element.text\n",
    "    # Extract Date\n",
    "    xpath_date='/html/body/div[1]/main/div/div[3]/div[5]/div[1]/ul/li[' + str(i) + ']/div/div[2]/div[2]/span/a/time'\n",
    "    date_element = driver.find_elements_by_xpath(xpath_date)[0]\n",
    "    date_ele = date_element.text\n",
    "    # Extract comment\n",
    "    xpath_comment='/html/body/div[1]/main/div/div[3]/div[5]/div[1]/ul/li['+ str(i)+']/div/div[3]/div/div[1]'\n",
    "    comment_element = driver.find_elements_by_xpath(xpath_comment)[0]\n",
    "    comment = comment_element.text\n",
    "    \n",
    "    # Append to the dataframe\n",
    "    df_edmund.loc[len(df_edmund)] = [date_ele,userid,comment]\n",
    "\n",
    "print(df_edmund)"
   ]
  },
  {
   "cell_type": "code",
   "execution_count": null,
   "metadata": {},
   "outputs": [],
   "source": [
    "#export to txt :\n",
    "df_edmund.to_csv(\"scraped_edmund.txt\", sep=\"^\")"
   ]
  },
  {
   "cell_type": "markdown",
   "metadata": {},
   "source": [
    "### Data Pre-Processing"
   ]
  },
  {
   "cell_type": "code",
   "execution_count": 2,
   "metadata": {},
   "outputs": [],
   "source": [
    "import pandas as pd\n",
    "import numpy as np\n",
    "import re\n",
    "from nltk.corpus import stopwords\n",
    "from nltk.probability import FreqDist\n",
    "import nltk\n",
    "from nltk import pos_tag, word_tokenize\n",
    "from nltk.stem.porter import PorterStemmer\n",
    "import matplotlib.pyplot as plt\n",
    "\n",
    "from sklearn.manifold import MDS\n",
    "from sklearn.metrics import euclidean_distances"
   ]
  },
  {
   "cell_type": "code",
   "execution_count": 3,
   "metadata": {},
   "outputs": [],
   "source": [
    "## Read in the scraped data\n",
    "posts = pd.read_csv(\"scraped_edmund.csv\", encoding = 'unicode_escape')\n",
    "posts = posts.drop(columns= [\"Unnamed: 0\"])\n",
    "\n",
    "## Read in the model-brand mapping data\n",
    "model_brand = pd.read_csv(\"models.csv\", header = None)\n",
    "model_brand.columns = ['brand','model']"
   ]
  },
  {
   "cell_type": "code",
   "execution_count": 5,
   "metadata": {},
   "outputs": [],
   "source": [
    "## Filter out the first 10000 comments\n",
    "posts = posts.head(10000)"
   ]
  },
  {
   "cell_type": "code",
   "execution_count": 6,
   "metadata": {},
   "outputs": [],
   "source": [
    "## Create dictionary for model to brand mapping\n",
    "model_brand = model_brand.set_index('model')\n",
    "model_brand_dict = model_brand[\"brand\"].to_dict()"
   ]
  },
  {
   "cell_type": "code",
   "execution_count": 135,
   "metadata": {},
   "outputs": [],
   "source": [
    "## Create the dictionary with brands as keys and models as the values for mapping\n",
    "#model_brand_dict = model_brand.stack().groupby(level=0).apply(list).to_dict()"
   ]
  },
  {
   "cell_type": "code",
   "execution_count": 7,
   "metadata": {},
   "outputs": [],
   "source": [
    "## Removing stop words, punctuation and tokenizing\n",
    "stop = stopwords.words('english')\n",
    "\n",
    "posts[\"comments\"] = posts[\"comments\"].astype(str)\n",
    "posts[\"comments_tokens\"] = posts[\"comments\"].apply(lambda each_post: word_tokenize(re.sub(r'[^\\w\\s]',' ',each_post.lower())))\n",
    "posts[\"comments_tokens\"] = posts[\"comments_tokens\"].apply(lambda list_of_words: [x if x not in model_brand_dict else model_brand_dict[x] for x in list_of_words])\n",
    "posts[\"comments_tokens\"] = posts[\"comments_tokens\"].apply(lambda list_of_words: [x for x in list_of_words if x not in stop])"
   ]
  },
  {
   "cell_type": "code",
   "execution_count": 8,
   "metadata": {},
   "outputs": [],
   "source": [
    "## Get all the unique tokens in each comments\n",
    "posts[\"comments_unique\"] = posts[\"comments_tokens\"].apply(lambda x: sorted(set(x)))"
   ]
  },
  {
   "cell_type": "markdown",
   "metadata": {},
   "source": [
    "### Brand Association based on lifts and MDS plots"
   ]
  },
  {
   "cell_type": "code",
   "execution_count": 9,
   "metadata": {},
   "outputs": [],
   "source": [
    "## Get frequency of all words\n",
    "all_words = posts['comments_unique'].sum()\n",
    "freq_dist = nltk.FreqDist(all_words)"
   ]
  },
  {
   "cell_type": "code",
   "execution_count": 10,
   "metadata": {},
   "outputs": [],
   "source": [
    "## Get the frequency counts of all brands\n",
    "all_brands_dict = {your_key: freq_dist[your_key] for your_key in freq_dist.keys() if your_key in model_brand_dict.values()}\n",
    "all_brands = pd.DataFrame.from_dict(all_brands_dict, orient='index').reset_index()\n",
    "all_brands.columns = [\"brand\",\"word_frequency\"]\n",
    "all_brands.sort_values(\"word_frequency\", ascending= False, inplace=True)"
   ]
  },
  {
   "cell_type": "code",
   "execution_count": 11,
   "metadata": {},
   "outputs": [],
   "source": [
    "all_brands = all_brands[~all_brands.brand.isin(['car','problem','sedan','seat'])]"
   ]
  },
  {
   "cell_type": "markdown",
   "metadata": {},
   "source": [
    "#### Frequency Table of Top-10 brands"
   ]
  },
  {
   "cell_type": "code",
   "execution_count": 12,
   "metadata": {},
   "outputs": [
    {
     "data": {
      "text/html": [
       "<div>\n",
       "<style scoped>\n",
       "    .dataframe tbody tr th:only-of-type {\n",
       "        vertical-align: middle;\n",
       "    }\n",
       "\n",
       "    .dataframe tbody tr th {\n",
       "        vertical-align: top;\n",
       "    }\n",
       "\n",
       "    .dataframe thead th {\n",
       "        text-align: right;\n",
       "    }\n",
       "</style>\n",
       "<table border=\"1\" class=\"dataframe\">\n",
       "  <thead>\n",
       "    <tr style=\"text-align: right;\">\n",
       "      <th></th>\n",
       "      <th>brand</th>\n",
       "      <th>word_frequency</th>\n",
       "    </tr>\n",
       "  </thead>\n",
       "  <tbody>\n",
       "    <tr>\n",
       "      <th>1</th>\n",
       "      <td>honda</td>\n",
       "      <td>3978</td>\n",
       "    </tr>\n",
       "    <tr>\n",
       "      <th>7</th>\n",
       "      <td>ford</td>\n",
       "      <td>2265</td>\n",
       "    </tr>\n",
       "    <tr>\n",
       "      <th>3</th>\n",
       "      <td>toyota</td>\n",
       "      <td>2137</td>\n",
       "    </tr>\n",
       "    <tr>\n",
       "      <th>21</th>\n",
       "      <td>hyundai</td>\n",
       "      <td>1398</td>\n",
       "    </tr>\n",
       "    <tr>\n",
       "      <th>14</th>\n",
       "      <td>mazda</td>\n",
       "      <td>1254</td>\n",
       "    </tr>\n",
       "    <tr>\n",
       "      <th>9</th>\n",
       "      <td>nissan</td>\n",
       "      <td>1083</td>\n",
       "    </tr>\n",
       "    <tr>\n",
       "      <th>0</th>\n",
       "      <td>chevrolet</td>\n",
       "      <td>792</td>\n",
       "    </tr>\n",
       "    <tr>\n",
       "      <th>17</th>\n",
       "      <td>chrysler</td>\n",
       "      <td>582</td>\n",
       "    </tr>\n",
       "    <tr>\n",
       "      <th>10</th>\n",
       "      <td>saturn</td>\n",
       "      <td>525</td>\n",
       "    </tr>\n",
       "    <tr>\n",
       "      <th>16</th>\n",
       "      <td>subaru</td>\n",
       "      <td>301</td>\n",
       "    </tr>\n",
       "  </tbody>\n",
       "</table>\n",
       "</div>"
      ],
      "text/plain": [
       "        brand  word_frequency\n",
       "1       honda            3978\n",
       "7        ford            2265\n",
       "3      toyota            2137\n",
       "21    hyundai            1398\n",
       "14      mazda            1254\n",
       "9      nissan            1083\n",
       "0   chevrolet             792\n",
       "17   chrysler             582\n",
       "10     saturn             525\n",
       "16     subaru             301"
      ]
     },
     "execution_count": 12,
     "metadata": {},
     "output_type": "execute_result"
    }
   ],
   "source": [
    "## Display the top 10 brands by frequency count, but eliminating non-brands\n",
    "top_brands = all_brands.head(10)\n",
    "top_brands"
   ]
  },
  {
   "cell_type": "code",
   "execution_count": 49,
   "metadata": {},
   "outputs": [
    {
     "data": {
      "text/html": [
       "<div>\n",
       "<style scoped>\n",
       "    .dataframe tbody tr th:only-of-type {\n",
       "        vertical-align: middle;\n",
       "    }\n",
       "\n",
       "    .dataframe tbody tr th {\n",
       "        vertical-align: top;\n",
       "    }\n",
       "\n",
       "    .dataframe thead th {\n",
       "        text-align: right;\n",
       "    }\n",
       "</style>\n",
       "<table border=\"1\" class=\"dataframe\">\n",
       "  <thead>\n",
       "    <tr style=\"text-align: right;\">\n",
       "      <th></th>\n",
       "      <th>Date</th>\n",
       "      <th>user_id</th>\n",
       "      <th>comments</th>\n",
       "      <th>comments_tokens</th>\n",
       "      <th>comments_unique</th>\n",
       "    </tr>\n",
       "  </thead>\n",
       "  <tbody>\n",
       "    <tr>\n",
       "      <th>0</th>\n",
       "      <td>Sep-07</td>\n",
       "      <td>1487</td>\n",
       "      <td>the media says it quite often. I just read an ...</td>\n",
       "      <td>[media, says, quite, often, read, article, new...</td>\n",
       "      <td>[article, cant, checked, chevrolet, crown, dom...</td>\n",
       "    </tr>\n",
       "    <tr>\n",
       "      <th>1</th>\n",
       "      <td>Sep-07</td>\n",
       "      <td>andres3</td>\n",
       "      <td>when you factor in the superior warranty you g...</td>\n",
       "      <td>[factor, superior, warranty, get, brands, thin...</td>\n",
       "      <td>[best, brands, chances, customer, dice, even, ...</td>\n",
       "    </tr>\n",
       "    <tr>\n",
       "      <th>2</th>\n",
       "      <td>Sep-07</td>\n",
       "      <td>1487</td>\n",
       "      <td>\"Also, Camry's ride very nicely on the straita...</td>\n",
       "      <td>[also, toyota, ride, nicely, straitaways, comf...</td>\n",
       "      <td>[also, american, anyone, benchmark, bread, bui...</td>\n",
       "    </tr>\n",
       "    <tr>\n",
       "      <th>3</th>\n",
       "      <td>Sep-07</td>\n",
       "      <td>1487</td>\n",
       "      <td>\"You might be willing to roll the dice and tak...</td>\n",
       "      <td>[might, willing, roll, dice, take, chances, pe...</td>\n",
       "      <td>[2, 30, 5, 50, 90, acting, amongst, annual, an...</td>\n",
       "    </tr>\n",
       "    <tr>\n",
       "      <th>4</th>\n",
       "      <td>Sep-07</td>\n",
       "      <td>andres3</td>\n",
       "      <td>Toyota's ride nice and soft, whereas Buicks I'...</td>\n",
       "      <td>[toyota, ride, nice, soft, whereas, buick, rid...</td>\n",
       "      <td>[2008, 40, advantage, also, barge, boat, buick...</td>\n",
       "    </tr>\n",
       "  </tbody>\n",
       "</table>\n",
       "</div>"
      ],
      "text/plain": [
       "     Date  user_id                                           comments  \\\n",
       "0  Sep-07     1487  the media says it quite often. I just read an ...   \n",
       "1  Sep-07  andres3  when you factor in the superior warranty you g...   \n",
       "2  Sep-07     1487  \"Also, Camry's ride very nicely on the straita...   \n",
       "3  Sep-07     1487  \"You might be willing to roll the dice and tak...   \n",
       "4  Sep-07  andres3  Toyota's ride nice and soft, whereas Buicks I'...   \n",
       "\n",
       "                                     comments_tokens  \\\n",
       "0  [media, says, quite, often, read, article, new...   \n",
       "1  [factor, superior, warranty, get, brands, thin...   \n",
       "2  [also, toyota, ride, nicely, straitaways, comf...   \n",
       "3  [might, willing, roll, dice, take, chances, pe...   \n",
       "4  [toyota, ride, nice, soft, whereas, buick, rid...   \n",
       "\n",
       "                                     comments_unique  \n",
       "0  [article, cant, checked, chevrolet, crown, dom...  \n",
       "1  [best, brands, chances, customer, dice, even, ...  \n",
       "2  [also, american, anyone, benchmark, bread, bui...  \n",
       "3  [2, 30, 5, 50, 90, acting, amongst, annual, an...  \n",
       "4  [2008, 40, advantage, also, barge, boat, buick...  "
      ]
     },
     "execution_count": 49,
     "metadata": {},
     "output_type": "execute_result"
    }
   ],
   "source": [
    "posts.head()"
   ]
  },
  {
   "cell_type": "markdown",
   "metadata": {},
   "source": [
    "#### Function to calculate the Lift"
   ]
  },
  {
   "cell_type": "code",
   "execution_count": 13,
   "metadata": {},
   "outputs": [],
   "source": [
    "## Function to calculate lift\n",
    "def calculate_lift(a, b, tokenized_posts):\n",
    "    num_a = 0\n",
    "    num_b = 0\n",
    "    num_a_b = 0\n",
    "    n = len(tokenized_posts)\n",
    "    if a==b:\n",
    "        return 1\n",
    "    for i in tokenized_posts:\n",
    "        if a in i:\n",
    "            num_a += 1\n",
    "        if b in i:\n",
    "            num_b += 1\n",
    "        if a in i and b in i:\n",
    "            num_a_b += 1\n",
    "    if num_a == 0:\n",
    "        return (float(n)*num_a_b)/(num_b)\n",
    "    elif num_b == 0:\n",
    "        return (float(n)*num_a_b)/(num_a)\n",
    "    else:\n",
    "        return (float(n)*num_a_b)/(num_a*num_b)   "
   ]
  },
  {
   "cell_type": "code",
   "execution_count": 14,
   "metadata": {},
   "outputs": [],
   "source": [
    "## Get the lift scores for the top-10 brands\n",
    "num_brands = 10\n",
    "\n",
    "## print(top_brands)\n",
    "top_brands = top_brands.head(num_brands)\n",
    "lift_brands = []\n",
    "for index, brand_a in top_brands.iterrows():\n",
    "    for index, brand_b in top_brands.iterrows():\n",
    "        lift_brands.append(calculate_lift(brand_a.brand, brand_b.brand, posts.comments_unique))"
   ]
  },
  {
   "cell_type": "code",
   "execution_count": 15,
   "metadata": {},
   "outputs": [],
   "source": [
    "lift_brands_df = np.reshape(lift_brands,(num_brands,num_brands))"
   ]
  },
  {
   "cell_type": "markdown",
   "metadata": {},
   "source": [
    "#### Lift Matrix"
   ]
  },
  {
   "cell_type": "code",
   "execution_count": 16,
   "metadata": {},
   "outputs": [
    {
     "data": {
      "text/html": [
       "<div>\n",
       "<style scoped>\n",
       "    .dataframe tbody tr th:only-of-type {\n",
       "        vertical-align: middle;\n",
       "    }\n",
       "\n",
       "    .dataframe tbody tr th {\n",
       "        vertical-align: top;\n",
       "    }\n",
       "\n",
       "    .dataframe thead th {\n",
       "        text-align: right;\n",
       "    }\n",
       "</style>\n",
       "<table border=\"1\" class=\"dataframe\">\n",
       "  <thead>\n",
       "    <tr style=\"text-align: right;\">\n",
       "      <th></th>\n",
       "      <th>honda</th>\n",
       "      <th>ford</th>\n",
       "      <th>toyota</th>\n",
       "      <th>hyundai</th>\n",
       "      <th>mazda</th>\n",
       "      <th>nissan</th>\n",
       "      <th>chevrolet</th>\n",
       "      <th>chrysler</th>\n",
       "      <th>saturn</th>\n",
       "      <th>subaru</th>\n",
       "    </tr>\n",
       "  </thead>\n",
       "  <tbody>\n",
       "    <tr>\n",
       "      <th>honda</th>\n",
       "      <td>1.000000</td>\n",
       "      <td>1.211964</td>\n",
       "      <td>1.751562</td>\n",
       "      <td>1.438527</td>\n",
       "      <td>1.142648</td>\n",
       "      <td>1.592322</td>\n",
       "      <td>1.523531</td>\n",
       "      <td>1.451281</td>\n",
       "      <td>1.541813</td>\n",
       "      <td>1.536691</td>\n",
       "    </tr>\n",
       "    <tr>\n",
       "      <th>ford</th>\n",
       "      <td>1.211964</td>\n",
       "      <td>1.000000</td>\n",
       "      <td>1.518499</td>\n",
       "      <td>1.301133</td>\n",
       "      <td>1.443504</td>\n",
       "      <td>1.451287</td>\n",
       "      <td>1.466096</td>\n",
       "      <td>1.380639</td>\n",
       "      <td>1.522128</td>\n",
       "      <td>1.173425</td>\n",
       "    </tr>\n",
       "    <tr>\n",
       "      <th>toyota</th>\n",
       "      <td>1.751562</td>\n",
       "      <td>1.518499</td>\n",
       "      <td>1.000000</td>\n",
       "      <td>1.827599</td>\n",
       "      <td>1.160535</td>\n",
       "      <td>2.376456</td>\n",
       "      <td>2.168385</td>\n",
       "      <td>1.503537</td>\n",
       "      <td>2.076788</td>\n",
       "      <td>1.290349</td>\n",
       "    </tr>\n",
       "    <tr>\n",
       "      <th>hyundai</th>\n",
       "      <td>1.438527</td>\n",
       "      <td>1.301133</td>\n",
       "      <td>1.827599</td>\n",
       "      <td>1.000000</td>\n",
       "      <td>1.249221</td>\n",
       "      <td>1.968252</td>\n",
       "      <td>1.869554</td>\n",
       "      <td>1.732962</td>\n",
       "      <td>1.621364</td>\n",
       "      <td>1.711035</td>\n",
       "    </tr>\n",
       "    <tr>\n",
       "      <th>mazda</th>\n",
       "      <td>1.142648</td>\n",
       "      <td>1.443504</td>\n",
       "      <td>1.160535</td>\n",
       "      <td>1.249221</td>\n",
       "      <td>1.000000</td>\n",
       "      <td>1.678838</td>\n",
       "      <td>1.057223</td>\n",
       "      <td>0.863217</td>\n",
       "      <td>1.199970</td>\n",
       "      <td>2.834783</td>\n",
       "    </tr>\n",
       "    <tr>\n",
       "      <th>nissan</th>\n",
       "      <td>1.592322</td>\n",
       "      <td>1.451287</td>\n",
       "      <td>2.376456</td>\n",
       "      <td>1.968252</td>\n",
       "      <td>1.678838</td>\n",
       "      <td>1.000000</td>\n",
       "      <td>2.238451</td>\n",
       "      <td>1.427878</td>\n",
       "      <td>2.866816</td>\n",
       "      <td>2.270057</td>\n",
       "    </tr>\n",
       "    <tr>\n",
       "      <th>chevrolet</th>\n",
       "      <td>1.523531</td>\n",
       "      <td>1.466096</td>\n",
       "      <td>2.168385</td>\n",
       "      <td>1.869554</td>\n",
       "      <td>1.057223</td>\n",
       "      <td>2.238451</td>\n",
       "      <td>1.000000</td>\n",
       "      <td>1.865736</td>\n",
       "      <td>4.978355</td>\n",
       "      <td>1.761804</td>\n",
       "    </tr>\n",
       "    <tr>\n",
       "      <th>chrysler</th>\n",
       "      <td>1.451281</td>\n",
       "      <td>1.380639</td>\n",
       "      <td>1.503537</td>\n",
       "      <td>1.732962</td>\n",
       "      <td>0.863217</td>\n",
       "      <td>1.427878</td>\n",
       "      <td>1.865736</td>\n",
       "      <td>1.000000</td>\n",
       "      <td>1.570938</td>\n",
       "      <td>1.427087</td>\n",
       "    </tr>\n",
       "    <tr>\n",
       "      <th>saturn</th>\n",
       "      <td>1.541813</td>\n",
       "      <td>1.522128</td>\n",
       "      <td>2.076788</td>\n",
       "      <td>1.621364</td>\n",
       "      <td>1.199970</td>\n",
       "      <td>2.866816</td>\n",
       "      <td>4.978355</td>\n",
       "      <td>1.570938</td>\n",
       "      <td>1.000000</td>\n",
       "      <td>1.898434</td>\n",
       "    </tr>\n",
       "    <tr>\n",
       "      <th>subaru</th>\n",
       "      <td>1.536691</td>\n",
       "      <td>1.173425</td>\n",
       "      <td>1.290349</td>\n",
       "      <td>1.711035</td>\n",
       "      <td>2.834783</td>\n",
       "      <td>2.270057</td>\n",
       "      <td>1.761804</td>\n",
       "      <td>1.427087</td>\n",
       "      <td>1.898434</td>\n",
       "      <td>1.000000</td>\n",
       "    </tr>\n",
       "  </tbody>\n",
       "</table>\n",
       "</div>"
      ],
      "text/plain": [
       "              honda      ford    toyota   hyundai     mazda    nissan  \\\n",
       "honda      1.000000  1.211964  1.751562  1.438527  1.142648  1.592322   \n",
       "ford       1.211964  1.000000  1.518499  1.301133  1.443504  1.451287   \n",
       "toyota     1.751562  1.518499  1.000000  1.827599  1.160535  2.376456   \n",
       "hyundai    1.438527  1.301133  1.827599  1.000000  1.249221  1.968252   \n",
       "mazda      1.142648  1.443504  1.160535  1.249221  1.000000  1.678838   \n",
       "nissan     1.592322  1.451287  2.376456  1.968252  1.678838  1.000000   \n",
       "chevrolet  1.523531  1.466096  2.168385  1.869554  1.057223  2.238451   \n",
       "chrysler   1.451281  1.380639  1.503537  1.732962  0.863217  1.427878   \n",
       "saturn     1.541813  1.522128  2.076788  1.621364  1.199970  2.866816   \n",
       "subaru     1.536691  1.173425  1.290349  1.711035  2.834783  2.270057   \n",
       "\n",
       "           chevrolet  chrysler    saturn    subaru  \n",
       "honda       1.523531  1.451281  1.541813  1.536691  \n",
       "ford        1.466096  1.380639  1.522128  1.173425  \n",
       "toyota      2.168385  1.503537  2.076788  1.290349  \n",
       "hyundai     1.869554  1.732962  1.621364  1.711035  \n",
       "mazda       1.057223  0.863217  1.199970  2.834783  \n",
       "nissan      2.238451  1.427878  2.866816  2.270057  \n",
       "chevrolet   1.000000  1.865736  4.978355  1.761804  \n",
       "chrysler    1.865736  1.000000  1.570938  1.427087  \n",
       "saturn      4.978355  1.570938  1.000000  1.898434  \n",
       "subaru      1.761804  1.427087  1.898434  1.000000  "
      ]
     },
     "execution_count": 16,
     "metadata": {},
     "output_type": "execute_result"
    }
   ],
   "source": [
    "lift_brands = pd.DataFrame(data= lift_brands_df)\n",
    "\n",
    "for i in range(10):\n",
    "    lift_brands = lift_brands.rename(columns = {i: top_brands.iloc[i, 0]})\n",
    "    lift_brands = lift_brands.rename(index = {i: top_brands.iloc[i, 0]})\n",
    "lift_brands"
   ]
  },
  {
   "cell_type": "code",
   "execution_count": 48,
   "metadata": {},
   "outputs": [
    {
     "data": {
      "image/png": "[encoded data removed]",
      "text/plain": [
       "<Figure size 432x288 with 1 Axes>"
      ]
     },
     "metadata": {
      "needs_background": "light"
     },
     "output_type": "display_data"
    }
   ],
   "source": [
    "\n",
    "# Calculating the dissimilarity matrix which is the input for plotting MDS plot\n",
    "dissimilarity_matrix = 1/lift_brands\n",
    "np.fill_diagonal(dissimilarity_matrix.values, 0)\n",
    "\n",
    "# Plotting MDS plot\n",
    "from sklearn import manifold\n",
    "seed = np.random.RandomState(seed=3)\n",
    "mds = manifold.MDS(n_components=2, max_iter=3000, eps=1e-9, \n",
    "      random_state=seed, dissimilarity=\"precomputed\", n_jobs=1)\n",
    "results = mds.fit(dissimilarity_matrix)\n",
    "coords = results.embedding_\n",
    "\n",
    "plt.subplots_adjust(bottom = 0.1)\n",
    "plt.scatter(\n",
    "    coords[:, 0], coords[:, 1], marker = 'o'\n",
    "    )\n",
    "for label, x, y in zip(lift_brands, coords[:, 0], coords[:, 1]):\n",
    "    \n",
    "    plt.annotate(\n",
    "        label,\n",
    "        xy = (x, y), xytext = (-20, 20),\n",
    "        textcoords = 'offset points',ha = 'left', va = 'bottom',\n",
    "        bbox = dict(boxstyle = 'round,pad=0.5', fc = 'orange', alpha = 0.5),\n",
    "        arrowprops = dict(arrowstyle = '->', connectionstyle = 'arc3,rad=0'))\n",
    "\n",
    "plt.show()"
   ]
  },
  {
   "cell_type": "markdown",
   "metadata": {},
   "source": [
    "### Insights to the brand managers of  car companies"
   ]
  },
  {
   "cell_type": "markdown",
   "metadata": {},
   "source": [
    "When looking at Mazda's placement on the MDS plot, we can see that it stands in somewhat isolation. As the brand manager, it makes more sense to focus on creating a stronger brand for Mazda, so that when people are talking about Subaru or Nissan, Mazda comes into their mind too. However, the strategy to attract customers from these brands will differ. For Subaru, Mazda should attract those who have are looking to upgrade themselves to a more powerful engine while maintaining day-to-day comfort. It can pit against Subaru directly, which is currently seen as a family car and hence focusses more on space rather than performance. On the other hand, Mazda is probably comparable to what a high-end Nissan could offer its customers. Mazda has a better brand premium, and we can use this as leverage to pull in Nissan users who are looking for a change. This may also be a good strategy when dealing with Saturn, as the association between Mazda and Saturn is slightly higher than with Nissan. Another advantage that Mazda has over Saturn customers is that with Saturn no longer manufacturing cars, customers are looking for a new brand to align with. Mazda should exploit this opportunity and have directed ads towards this user base.\n",
    "\n",
    "Chevrolet is an American brand and has been associated with the country's image. When you think of American cars, Chevrolet comes to mind and it should use this image to its advantage. Its mid-sized sedans are closest in their look and feel to that of its Japanese equivalent models, like Nissan, Toyota or Hyundai. Hence it would be most suitable to attract the customers of these three competitors to switch. They also have similar price-tags, thus by better advertising their features and focusing on its legacy, it can maximize on people's loyalty to home brands. The next target for Chevrolet should be Ford. Ford is still seen a more family car brand and Chevrolet should sell itself as a more upscale sedan."
   ]
  },
  {
   "cell_type": "markdown",
   "metadata": {},
   "source": [
    "### Which attributes are most strongly associated with which of these 5 brands? "
   ]
  },
  {
   "cell_type": "markdown",
   "metadata": {},
   "source": [
    "#### Steps followed to obtain the list of attributes:\n",
    "\n",
    "1. Found the list of nouns & adjectives which define the attributes \n",
    "2. Manually went through a few comments and the list to decide on the final list of attributes (245 attributes(\n",
    "3. Obainted the lift values and frequency for these attributes\n",
    "4. Based on the lift values and frequencies, grouped the attributes to final 22 groups\n",
    "5. Found top 5 attributes based on the frequency\n",
    "6. Calculated the lift values for these attributes with the top brands"
   ]
  },
  {
   "cell_type": "code",
   "execution_count": 18,
   "metadata": {},
   "outputs": [
    {
     "name": "stderr",
     "output_type": "stream",
     "text": [
      "[nltk_data] Downloading package punkt to\n",
      "[nltk_data]     C:\\Users\\Sahana\\AppData\\Roaming\\nltk_data...\n",
      "[nltk_data]   Package punkt is already up-to-date!\n"
     ]
    },
    {
     "data": {
      "text/plain": [
       "True"
      ]
     },
     "execution_count": 18,
     "metadata": {},
     "output_type": "execute_result"
    }
   ],
   "source": [
    "# Import required functions from the libraries\n",
    "from nltk.tokenize import word_tokenize\n",
    "from nltk.probability import FreqDist\n",
    "from nltk.corpus import stopwords\n",
    "from nltk.tokenize import RegexpTokenizer # to remove punctuations\n",
    "import re\n",
    "import nltk\n",
    "nltk.download('punkt')"
   ]
  },
  {
   "cell_type": "code",
   "execution_count": 19,
   "metadata": {},
   "outputs": [
    {
     "name": "stderr",
     "output_type": "stream",
     "text": [
      "[nltk_data] Downloading package averaged_perceptron_tagger to\n",
      "[nltk_data]     C:\\Users\\Sahana\\AppData\\Roaming\\nltk_data...\n",
      "[nltk_data]   Unzipping taggers\\averaged_perceptron_tagger.zip.\n"
     ]
    },
    {
     "data": {
      "text/html": [
       "<div>\n",
       "<style scoped>\n",
       "    .dataframe tbody tr th:only-of-type {\n",
       "        vertical-align: middle;\n",
       "    }\n",
       "\n",
       "    .dataframe tbody tr th {\n",
       "        vertical-align: top;\n",
       "    }\n",
       "\n",
       "    .dataframe thead th {\n",
       "        text-align: right;\n",
       "    }\n",
       "</style>\n",
       "<table border=\"1\" class=\"dataframe\">\n",
       "  <thead>\n",
       "    <tr style=\"text-align: right;\">\n",
       "      <th></th>\n",
       "      <th>Date</th>\n",
       "      <th>user_id</th>\n",
       "      <th>comments</th>\n",
       "      <th>comments_tokens</th>\n",
       "      <th>comments_unique</th>\n",
       "      <th>pos</th>\n",
       "    </tr>\n",
       "  </thead>\n",
       "  <tbody>\n",
       "    <tr>\n",
       "      <th>0</th>\n",
       "      <td>Sep-07</td>\n",
       "      <td>1487</td>\n",
       "      <td>the media says it quite often. I just read an ...</td>\n",
       "      <td>[media, says, quite, often, read, article, new...</td>\n",
       "      <td>[article, cant, checked, chevrolet, crown, dom...</td>\n",
       "      <td>[(article, NN), (cant, NN), (checked, VBD), (c...</td>\n",
       "    </tr>\n",
       "    <tr>\n",
       "      <th>1</th>\n",
       "      <td>Sep-07</td>\n",
       "      <td>andres3</td>\n",
       "      <td>when you factor in the superior warranty you g...</td>\n",
       "      <td>[factor, superior, warranty, get, brands, thin...</td>\n",
       "      <td>[best, brands, chances, customer, dice, even, ...</td>\n",
       "      <td>[(best, JJS), (brands, NNS), (chances, NNS), (...</td>\n",
       "    </tr>\n",
       "    <tr>\n",
       "      <th>2</th>\n",
       "      <td>Sep-07</td>\n",
       "      <td>1487</td>\n",
       "      <td>\"Also, Camry's ride very nicely on the straita...</td>\n",
       "      <td>[also, toyota, ride, nicely, straitaways, comf...</td>\n",
       "      <td>[also, american, anyone, benchmark, bread, bui...</td>\n",
       "      <td>[(also, RB), (american, JJ), (anyone, NN), (be...</td>\n",
       "    </tr>\n",
       "    <tr>\n",
       "      <th>3</th>\n",
       "      <td>Sep-07</td>\n",
       "      <td>1487</td>\n",
       "      <td>\"You might be willing to roll the dice and tak...</td>\n",
       "      <td>[might, willing, roll, dice, take, chances, pe...</td>\n",
       "      <td>[2, 30, 5, 50, 90, acting, amongst, annual, an...</td>\n",
       "      <td>[(2, CD), (30, CD), (5, CD), (50, CD), (90, CD...</td>\n",
       "    </tr>\n",
       "    <tr>\n",
       "      <th>4</th>\n",
       "      <td>Sep-07</td>\n",
       "      <td>andres3</td>\n",
       "      <td>Toyota's ride nice and soft, whereas Buicks I'...</td>\n",
       "      <td>[toyota, ride, nice, soft, whereas, buick, rid...</td>\n",
       "      <td>[2008, 40, advantage, also, barge, boat, buick...</td>\n",
       "      <td>[(2008, CD), (40, CD), (advantage, NN), (also,...</td>\n",
       "    </tr>\n",
       "  </tbody>\n",
       "</table>\n",
       "</div>"
      ],
      "text/plain": [
       "     Date  user_id                                           comments  \\\n",
       "0  Sep-07     1487  the media says it quite often. I just read an ...   \n",
       "1  Sep-07  andres3  when you factor in the superior warranty you g...   \n",
       "2  Sep-07     1487  \"Also, Camry's ride very nicely on the straita...   \n",
       "3  Sep-07     1487  \"You might be willing to roll the dice and tak...   \n",
       "4  Sep-07  andres3  Toyota's ride nice and soft, whereas Buicks I'...   \n",
       "\n",
       "                                     comments_tokens  \\\n",
       "0  [media, says, quite, often, read, article, new...   \n",
       "1  [factor, superior, warranty, get, brands, thin...   \n",
       "2  [also, toyota, ride, nicely, straitaways, comf...   \n",
       "3  [might, willing, roll, dice, take, chances, pe...   \n",
       "4  [toyota, ride, nice, soft, whereas, buick, rid...   \n",
       "\n",
       "                                     comments_unique  \\\n",
       "0  [article, cant, checked, chevrolet, crown, dom...   \n",
       "1  [best, brands, chances, customer, dice, even, ...   \n",
       "2  [also, american, anyone, benchmark, bread, bui...   \n",
       "3  [2, 30, 5, 50, 90, acting, amongst, annual, an...   \n",
       "4  [2008, 40, advantage, also, barge, boat, buick...   \n",
       "\n",
       "                                                 pos  \n",
       "0  [(article, NN), (cant, NN), (checked, VBD), (c...  \n",
       "1  [(best, JJS), (brands, NNS), (chances, NNS), (...  \n",
       "2  [(also, RB), (american, JJ), (anyone, NN), (be...  \n",
       "3  [(2, CD), (30, CD), (5, CD), (50, CD), (90, CD...  \n",
       "4  [(2008, CD), (40, CD), (advantage, NN), (also,...  "
      ]
     },
     "execution_count": 19,
     "metadata": {},
     "output_type": "execute_result"
    }
   ],
   "source": [
    "#Obtain POS for the tokens\n",
    "import nltk\n",
    "nltk.download('averaged_perceptron_tagger')\n",
    "posts['pos']=posts['comments_unique'].apply(nltk.tag.pos_tag)\n",
    "posts[:5]"
   ]
  },
  {
   "cell_type": "code",
   "execution_count": 20,
   "metadata": {},
   "outputs": [
    {
     "data": {
      "text/html": [
       "<div>\n",
       "<style scoped>\n",
       "    .dataframe tbody tr th:only-of-type {\n",
       "        vertical-align: middle;\n",
       "    }\n",
       "\n",
       "    .dataframe tbody tr th {\n",
       "        vertical-align: top;\n",
       "    }\n",
       "\n",
       "    .dataframe thead th {\n",
       "        text-align: right;\n",
       "    }\n",
       "</style>\n",
       "<table border=\"1\" class=\"dataframe\">\n",
       "  <thead>\n",
       "    <tr style=\"text-align: right;\">\n",
       "      <th></th>\n",
       "      <th>Date</th>\n",
       "      <th>user_id</th>\n",
       "      <th>comments</th>\n",
       "      <th>comments_tokens</th>\n",
       "      <th>comments_unique</th>\n",
       "      <th>pos</th>\n",
       "      <th>nouns</th>\n",
       "    </tr>\n",
       "  </thead>\n",
       "  <tbody>\n",
       "    <tr>\n",
       "      <th>0</th>\n",
       "      <td>Sep-07</td>\n",
       "      <td>1487</td>\n",
       "      <td>the media says it quite often. I just read an ...</td>\n",
       "      <td>[media, says, quite, often, read, article, new...</td>\n",
       "      <td>[article, cant, checked, chevrolet, crown, dom...</td>\n",
       "      <td>[(article, NN), (cant, NN), (checked, VBD), (c...</td>\n",
       "      <td>[article, cant, dominate, dont, honda, loses, ...</td>\n",
       "    </tr>\n",
       "    <tr>\n",
       "      <th>1</th>\n",
       "      <td>Sep-07</td>\n",
       "      <td>andres3</td>\n",
       "      <td>when you factor in the superior warranty you g...</td>\n",
       "      <td>[factor, superior, warranty, get, brands, thin...</td>\n",
       "      <td>[best, brands, chances, customer, dice, even, ...</td>\n",
       "      <td>[(best, JJS), (brands, NNS), (chances, NNS), (...</td>\n",
       "      <td>[brands, chances, customer, dice, people, serv...</td>\n",
       "    </tr>\n",
       "    <tr>\n",
       "      <th>2</th>\n",
       "      <td>Sep-07</td>\n",
       "      <td>1487</td>\n",
       "      <td>\"Also, Camry's ride very nicely on the straita...</td>\n",
       "      <td>[also, toyota, ride, nicely, straitaways, comf...</td>\n",
       "      <td>[also, american, anyone, benchmark, bread, bui...</td>\n",
       "      <td>[(also, RB), (american, JJ), (anyone, NN), (be...</td>\n",
       "      <td>[anyone, benchmark, bread, buick, building, bu...</td>\n",
       "    </tr>\n",
       "    <tr>\n",
       "      <th>3</th>\n",
       "      <td>Sep-07</td>\n",
       "      <td>1487</td>\n",
       "      <td>\"You might be willing to roll the dice and tak...</td>\n",
       "      <td>[might, willing, roll, dice, take, chances, pe...</td>\n",
       "      <td>[2, 30, 5, 50, 90, acting, amongst, annual, an...</td>\n",
       "      <td>[(2, CD), (30, CD), (5, CD), (50, CD), (90, CD...</td>\n",
       "      <td>[anything, auto, axles, brands, buyers, car, c...</td>\n",
       "    </tr>\n",
       "    <tr>\n",
       "      <th>4</th>\n",
       "      <td>Sep-07</td>\n",
       "      <td>andres3</td>\n",
       "      <td>Toyota's ride nice and soft, whereas Buicks I'...</td>\n",
       "      <td>[toyota, ride, nice, soft, whereas, buick, rid...</td>\n",
       "      <td>[2008, 40, advantage, also, barge, boat, buick...</td>\n",
       "      <td>[(2008, CD), (40, CD), (advantage, NN), (also,...</td>\n",
       "      <td>[advantage, boat, buick, engineering, example,...</td>\n",
       "    </tr>\n",
       "  </tbody>\n",
       "</table>\n",
       "</div>"
      ],
      "text/plain": [
       "     Date  user_id                                           comments  \\\n",
       "0  Sep-07     1487  the media says it quite often. I just read an ...   \n",
       "1  Sep-07  andres3  when you factor in the superior warranty you g...   \n",
       "2  Sep-07     1487  \"Also, Camry's ride very nicely on the straita...   \n",
       "3  Sep-07     1487  \"You might be willing to roll the dice and tak...   \n",
       "4  Sep-07  andres3  Toyota's ride nice and soft, whereas Buicks I'...   \n",
       "\n",
       "                                     comments_tokens  \\\n",
       "0  [media, says, quite, often, read, article, new...   \n",
       "1  [factor, superior, warranty, get, brands, thin...   \n",
       "2  [also, toyota, ride, nicely, straitaways, comf...   \n",
       "3  [might, willing, roll, dice, take, chances, pe...   \n",
       "4  [toyota, ride, nice, soft, whereas, buick, rid...   \n",
       "\n",
       "                                     comments_unique  \\\n",
       "0  [article, cant, checked, chevrolet, crown, dom...   \n",
       "1  [best, brands, chances, customer, dice, even, ...   \n",
       "2  [also, american, anyone, benchmark, bread, bui...   \n",
       "3  [2, 30, 5, 50, 90, acting, amongst, annual, an...   \n",
       "4  [2008, 40, advantage, also, barge, boat, buick...   \n",
       "\n",
       "                                                 pos  \\\n",
       "0  [(article, NN), (cant, NN), (checked, VBD), (c...   \n",
       "1  [(best, JJS), (brands, NNS), (chances, NNS), (...   \n",
       "2  [(also, RB), (american, JJ), (anyone, NN), (be...   \n",
       "3  [(2, CD), (30, CD), (5, CD), (50, CD), (90, CD...   \n",
       "4  [(2008, CD), (40, CD), (advantage, NN), (also,...   \n",
       "\n",
       "                                               nouns  \n",
       "0  [article, cant, dominate, dont, honda, loses, ...  \n",
       "1  [brands, chances, customer, dice, people, serv...  \n",
       "2  [anyone, benchmark, bread, buick, building, bu...  \n",
       "3  [anything, auto, axles, brands, buyers, car, c...  \n",
       "4  [advantage, boat, buick, engineering, example,...  "
      ]
     },
     "execution_count": 20,
     "metadata": {},
     "output_type": "execute_result"
    }
   ],
   "source": [
    "# Extract the list of nouns :\n",
    "posts['nouns']=posts['pos'].apply(lambda pos_list: [x[0] for x in pos_list if x[1].startswith('NN')])\n",
    "posts[:5]"
   ]
  },
  {
   "cell_type": "code",
   "execution_count": 21,
   "metadata": {},
   "outputs": [
    {
     "data": {
      "text/html": [
       "<div>\n",
       "<style scoped>\n",
       "    .dataframe tbody tr th:only-of-type {\n",
       "        vertical-align: middle;\n",
       "    }\n",
       "\n",
       "    .dataframe tbody tr th {\n",
       "        vertical-align: top;\n",
       "    }\n",
       "\n",
       "    .dataframe thead th {\n",
       "        text-align: right;\n",
       "    }\n",
       "</style>\n",
       "<table border=\"1\" class=\"dataframe\">\n",
       "  <thead>\n",
       "    <tr style=\"text-align: right;\">\n",
       "      <th></th>\n",
       "      <th>nouns</th>\n",
       "      <th>term</th>\n",
       "      <th>freq</th>\n",
       "    </tr>\n",
       "  </thead>\n",
       "  <tbody>\n",
       "    <tr>\n",
       "      <th>0</th>\n",
       "      <td>article</td>\n",
       "      <td>article</td>\n",
       "      <td>153</td>\n",
       "    </tr>\n",
       "    <tr>\n",
       "      <th>1</th>\n",
       "      <td>cant</td>\n",
       "      <td>cant</td>\n",
       "      <td>38</td>\n",
       "    </tr>\n",
       "    <tr>\n",
       "      <th>2</th>\n",
       "      <td>dominate</td>\n",
       "      <td>dominate</td>\n",
       "      <td>27</td>\n",
       "    </tr>\n",
       "    <tr>\n",
       "      <th>3</th>\n",
       "      <td>dont</td>\n",
       "      <td>dont</td>\n",
       "      <td>142</td>\n",
       "    </tr>\n",
       "    <tr>\n",
       "      <th>4</th>\n",
       "      <td>honda</td>\n",
       "      <td>honda</td>\n",
       "      <td>3978</td>\n",
       "    </tr>\n",
       "  </tbody>\n",
       "</table>\n",
       "</div>"
      ],
      "text/plain": [
       "      nouns      term  freq\n",
       "0   article   article   153\n",
       "1      cant      cant    38\n",
       "2  dominate  dominate    27\n",
       "3      dont      dont   142\n",
       "4     honda     honda  3978"
      ]
     },
     "execution_count": 21,
     "metadata": {},
     "output_type": "execute_result"
    }
   ],
   "source": [
    "#Filter the noun list only to make the list of attributes \n",
    "noun_lst = posts['nouns'].apply(pd.Series).stack().unique()\n",
    "\n",
    "# get the frequencies for the nouns:\n",
    "noun_df= pd.DataFrame(noun_lst)\n",
    "noun_df.columns=['nouns']\n",
    "\n",
    "# join with frequency table\n",
    "\n",
    "## get frequency of all words\n",
    "all_words = posts['comments_unique'].sum()\n",
    "freq_dist = nltk.FreqDist(all_words)\n",
    "\n",
    "df_fdist=pd.DataFrame(list(freq_dist.items()), columns=['term', 'freq'])\n",
    "\n",
    "noun_freq_df = pd.merge(noun_df, df_fdist, right_on='term', left_on='nouns')\n",
    "noun_freq_df[:5]"
   ]
  },
  {
   "cell_type": "code",
   "execution_count": 22,
   "metadata": {},
   "outputs": [
    {
     "data": {
      "text/html": [
       "<div>\n",
       "<style scoped>\n",
       "    .dataframe tbody tr th:only-of-type {\n",
       "        vertical-align: middle;\n",
       "    }\n",
       "\n",
       "    .dataframe tbody tr th {\n",
       "        vertical-align: top;\n",
       "    }\n",
       "\n",
       "    .dataframe thead th {\n",
       "        text-align: right;\n",
       "    }\n",
       "</style>\n",
       "<table border=\"1\" class=\"dataframe\">\n",
       "  <thead>\n",
       "    <tr style=\"text-align: right;\">\n",
       "      <th></th>\n",
       "      <th>attribute</th>\n",
       "      <th>synonym</th>\n",
       "    </tr>\n",
       "  </thead>\n",
       "  <tbody>\n",
       "    <tr>\n",
       "      <th>0</th>\n",
       "      <td>price</td>\n",
       "      <td>price</td>\n",
       "    </tr>\n",
       "    <tr>\n",
       "      <th>1</th>\n",
       "      <td>power</td>\n",
       "      <td>power</td>\n",
       "    </tr>\n",
       "    <tr>\n",
       "      <th>2</th>\n",
       "      <td>interior</td>\n",
       "      <td>design</td>\n",
       "    </tr>\n",
       "    <tr>\n",
       "      <th>3</th>\n",
       "      <td>speed</td>\n",
       "      <td>speed</td>\n",
       "    </tr>\n",
       "    <tr>\n",
       "      <th>4</th>\n",
       "      <td>cost</td>\n",
       "      <td>price</td>\n",
       "    </tr>\n",
       "  </tbody>\n",
       "</table>\n",
       "</div>"
      ],
      "text/plain": [
       "  attribute synonym\n",
       "0     price   price\n",
       "1     power   power\n",
       "2  interior  design\n",
       "3     speed   speed\n",
       "4      cost   price"
      ]
     },
     "execution_count": 22,
     "metadata": {},
     "output_type": "execute_result"
    }
   ],
   "source": [
    "## Upload the final list of attributes along with their grouped names (synonym)\n",
    "\n",
    "attr_df= pd.read_csv('attributes_vff.csv') \n",
    "attr_df[:5]"
   ]
  },
  {
   "cell_type": "code",
   "execution_count": 23,
   "metadata": {},
   "outputs": [],
   "source": [
    "## Create dictionary for attribute to synonym mapping\n",
    "attr_df = attr_df.set_index('attribute')\n",
    "attr_dict = attr_df[\"synonym\"].to_dict()\n",
    "posts[\"attr_tokens\"] = posts[\"comments_unique\"].apply(lambda list_of_words: [attr_dict[x] for x in list_of_words if x in attr_dict  ])"
   ]
  },
  {
   "cell_type": "code",
   "execution_count": 24,
   "metadata": {},
   "outputs": [
    {
     "data": {
      "text/plain": [
       "array(['capability', 'country', 'credibility', 'design', 'efficiency',\n",
       "       'luxury', 'maintenance', 'performance', 'power', 'price',\n",
       "       'quality', 'rating', 'reliability', 'safety', 'size', 'speed',\n",
       "       'sporty', 'technology', 'type', 'warranty'], dtype=object)"
      ]
     },
     "execution_count": 24,
     "metadata": {},
     "output_type": "execute_result"
    }
   ],
   "source": [
    "# Define top 5 brands by frequency obtained previously\n",
    "import numpy as np\n",
    "top_brands=['honda','ford','toyota','hyundai','mazda']\n",
    "\n",
    "# Get unique list of grouped attribute names\n",
    "uniq_attr=np.unique(attr_df['synonym'])\n",
    "uniq_attr"
   ]
  },
  {
   "cell_type": "code",
   "execution_count": 25,
   "metadata": {},
   "outputs": [],
   "source": [
    "# Find top 5 attributes:\n",
    "\n",
    "def calc_freq(tokenized_posts,find_list):\n",
    "    freq_a=0\n",
    "    for i in tokenized_posts:\n",
    "        if find_list in i:\n",
    "            freq_a += 1\n",
    "    return freq_a\n",
    "  \n",
    "# Calculate freq for attr\n",
    "df_top_attr=pd.DataFrame(columns=['attribute','freq'])\n",
    "for i,attr in enumerate(uniq_attr):\n",
    "        temp_freq=calc_freq( posts.comments_unique,str(attr))\n",
    "        df_top_attr.loc[i]=[str(attr),temp_freq]"
   ]
  },
  {
   "cell_type": "code",
   "execution_count": 26,
   "metadata": {},
   "outputs": [
    {
     "data": {
      "text/plain": [
       "9       price\n",
       "8       power\n",
       "15      speed\n",
       "14       size\n",
       "10    quality\n",
       "Name: attribute, dtype: object"
      ]
     },
     "execution_count": 26,
     "metadata": {},
     "output_type": "execute_result"
    }
   ],
   "source": [
    "#Sort the top attributes\n",
    "top_attr=df_top_attr.sort_values(by='freq',ascending=False).head(5)\n",
    "top_attr['attribute']"
   ]
  },
  {
   "cell_type": "code",
   "execution_count": 27,
   "metadata": {},
   "outputs": [],
   "source": [
    "# Grouped Brands and attribute lifts \n",
    "df_lift_brand_attr=pd.DataFrame(columns=['brand','attribute','lift'])\n",
    "i=0\n",
    "for  brand_a in top_brands:\n",
    "    for attr in top_attr['attribute']:\n",
    "        temp_lift=calculate_lift(str(brand_a), str(attr), posts.comments_unique)\n",
    "        df_lift_brand_attr.loc[i]=[ str(brand_a),str(attr),temp_lift]\n",
    "        i=i+1"
   ]
  },
  {
   "cell_type": "code",
   "execution_count": 28,
   "metadata": {},
   "outputs": [
    {
     "name": "stdout",
     "output_type": "stream",
     "text": [
      "      brand attribute      lift\n",
      "8      ford      size  1.577356\n",
      "9      ford   quality  1.504308\n",
      "6      ford     power  1.314441\n",
      "5      ford     price  1.194585\n",
      "7      ford     speed  1.140870\n",
      "4     honda   quality  1.540732\n",
      "0     honda     price  1.429308\n",
      "3     honda      size  1.399077\n",
      "1     honda     power  1.260494\n",
      "2     honda     speed  1.219094\n",
      "15  hyundai     price  1.926514\n",
      "18  hyundai      size  1.322741\n",
      "19  hyundai   quality  1.312359\n",
      "16  hyundai     power  1.202369\n",
      "17  hyundai     speed  0.924203\n",
      "21    mazda     power  1.692589\n",
      "20    mazda     price  1.551146\n",
      "22    mazda     speed  1.481983\n",
      "23    mazda      size  1.403051\n",
      "24    mazda   quality  1.045043\n",
      "14   toyota   quality  2.141606\n",
      "13   toyota      size  1.646631\n",
      "10   toyota     price  1.604552\n",
      "11   toyota     power  1.286517\n",
      "12   toyota     speed  0.861351\n"
     ]
    }
   ],
   "source": [
    "df1 = df_lift_brand_attr.sort_values('lift',ascending = False).groupby('brand').head(10)\n",
    "print(df1.sort_values(['brand','lift'],ascending=[True,False]))"
   ]
  },
  {
   "cell_type": "markdown",
   "metadata": {},
   "source": [
    "#### Lift Matrix of the brands and the top-5 attributes"
   ]
  },
  {
   "cell_type": "code",
   "execution_count": 29,
   "metadata": {},
   "outputs": [
    {
     "data": {
      "text/html": [
       "<div>\n",
       "<style scoped>\n",
       "    .dataframe tbody tr th:only-of-type {\n",
       "        vertical-align: middle;\n",
       "    }\n",
       "\n",
       "    .dataframe tbody tr th {\n",
       "        vertical-align: top;\n",
       "    }\n",
       "\n",
       "    .dataframe thead tr th {\n",
       "        text-align: left;\n",
       "    }\n",
       "\n",
       "    .dataframe thead tr:last-of-type th {\n",
       "        text-align: right;\n",
       "    }\n",
       "</style>\n",
       "<table border=\"1\" class=\"dataframe\">\n",
       "  <thead>\n",
       "    <tr>\n",
       "      <th></th>\n",
       "      <th colspan=\"5\" halign=\"left\">lift</th>\n",
       "    </tr>\n",
       "    <tr>\n",
       "      <th>attribute</th>\n",
       "      <th>power</th>\n",
       "      <th>price</th>\n",
       "      <th>quality</th>\n",
       "      <th>size</th>\n",
       "      <th>speed</th>\n",
       "    </tr>\n",
       "    <tr>\n",
       "      <th>brand</th>\n",
       "      <th></th>\n",
       "      <th></th>\n",
       "      <th></th>\n",
       "      <th></th>\n",
       "      <th></th>\n",
       "    </tr>\n",
       "  </thead>\n",
       "  <tbody>\n",
       "    <tr>\n",
       "      <th>ford</th>\n",
       "      <td>1.314441</td>\n",
       "      <td>1.194585</td>\n",
       "      <td>1.504308</td>\n",
       "      <td>1.577356</td>\n",
       "      <td>1.140870</td>\n",
       "    </tr>\n",
       "    <tr>\n",
       "      <th>honda</th>\n",
       "      <td>1.260494</td>\n",
       "      <td>1.429308</td>\n",
       "      <td>1.540732</td>\n",
       "      <td>1.399077</td>\n",
       "      <td>1.219094</td>\n",
       "    </tr>\n",
       "    <tr>\n",
       "      <th>hyundai</th>\n",
       "      <td>1.202369</td>\n",
       "      <td>1.926514</td>\n",
       "      <td>1.312359</td>\n",
       "      <td>1.322741</td>\n",
       "      <td>0.924203</td>\n",
       "    </tr>\n",
       "    <tr>\n",
       "      <th>mazda</th>\n",
       "      <td>1.692589</td>\n",
       "      <td>1.551146</td>\n",
       "      <td>1.045043</td>\n",
       "      <td>1.403051</td>\n",
       "      <td>1.481983</td>\n",
       "    </tr>\n",
       "    <tr>\n",
       "      <th>toyota</th>\n",
       "      <td>1.286517</td>\n",
       "      <td>1.604552</td>\n",
       "      <td>2.141606</td>\n",
       "      <td>1.646631</td>\n",
       "      <td>0.861351</td>\n",
       "    </tr>\n",
       "  </tbody>\n",
       "</table>\n",
       "</div>"
      ],
      "text/plain": [
       "               lift                                        \n",
       "attribute     power     price   quality      size     speed\n",
       "brand                                                      \n",
       "ford       1.314441  1.194585  1.504308  1.577356  1.140870\n",
       "honda      1.260494  1.429308  1.540732  1.399077  1.219094\n",
       "hyundai    1.202369  1.926514  1.312359  1.322741  0.924203\n",
       "mazda      1.692589  1.551146  1.045043  1.403051  1.481983\n",
       "toyota     1.286517  1.604552  2.141606  1.646631  0.861351"
      ]
     },
     "execution_count": 29,
     "metadata": {},
     "output_type": "execute_result"
    }
   ],
   "source": [
    "lift_matrix = df1.pivot(index='brand', columns='attribute')\n",
    "lift_matrix"
   ]
  },
  {
   "cell_type": "markdown",
   "metadata": {},
   "source": [
    "#### Appedix Code:\n",
    "Before deciding to combine the attributes into final 22 groups, I examined the lift values of all the attributes with the brands to confirm if the binning was appropriate. "
   ]
  },
  {
   "cell_type": "code",
   "execution_count": null,
   "metadata": {},
   "outputs": [],
   "source": [
    "## Appedix Code:\n",
    "## Before deciding to combine the attributes into final 22 groups \n",
    "\n",
    "#uniq_attr_org=np.unique(attr_df['attribute'])\n",
    "\n",
    "# Brand and attribute lifts \n",
    "#df_lift_brand_attr_org=pd.DataFrame(columns=['brand','attribute','lift'])\n",
    "#i=0\n",
    "#for  brand_a in top_brands:\n",
    "#    for attr in uniq_attr_org:\n",
    "#        temp_lift=calculate_lift(str(brand_a), str(attr), posts.comments_unique)\n",
    "#        df_lift_brand_attr_org.loc[i]=[ str(brand_a),str(attr),temp_lift]\n",
    "#        i=i+1\n",
    "\n",
    "#df_lift_brand_attr_org[:20]"
   ]
  },
  {
   "cell_type": "markdown",
   "metadata": {},
   "source": [
    "### Insights to the car company managers"
   ]
  },
  {
   "cell_type": "markdown",
   "metadata": {},
   "source": [
    "The data is of the year 2007 and hence in the following discussion we look at brand slogan's in the year 2007 to have a more accurate analysis.\n",
    "\n",
    "#### Ford : \n",
    "Ford had a tagline of \"Go further\". It is believed to have a dual meaning of being better than competitors and improved fuel economy. Ford has a high life with size but the lift with speed and power is relatively low.\n",
    "###### Product manager : \n",
    "Given the company's emphasis on being better than their competitors, the product managers should certianly need to improve the car interms of  power and speed. With a lift close to 1 ,the product managers becessarily have to work on increasing the speed of the vehicle.\n",
    "###### Marketing Manager : \n",
    "Ford is considered as a affordable car by the company, but the public does not perceive this, evident by low lift values(among other attributes and even amoung other competitors!) and hence the marketing manager has to advertise  the cars as affordable and low price for its features. This may need both the product manager to improve the product and marketing managers to market the product to convey a good deal for the price and compete in the market\n",
    "\n",
    "#### Honda : \n",
    "It had the lagline \"The power of dreams\" which encourages people to have the conviction to imagine and make dreams a reality which speaks to Honda's innovative nature.\n",
    "###### Product manager : \n",
    "Power and speed have low lift values compared to other attributes. The product managers can focus on improving this, so that people can relate the car to its tagline of \"power of dreams\".Honda considers it's cars as roomy and hence the product design may need to be changed accordingly and marketed in that fashion too.\n",
    "###### Marketing manager : \n",
    "Honda again considers itself as a affordable brand,its lift value woth price is 1.44, but it is low wrt to other competitors. The marketing team should better advertise honda as having reasonable prices. They can also focus on improving the image of honda interms of quality to compete with toyota.\n",
    "\n",
    "#### Hyundai : \n",
    "\"Drive your Way\" was designed to communicate the company’s ‘refined and confident’ brand attributes.\n",
    "###### Product Managers :\n",
    "Hyundai prides in high quality products but the lift value is very low, something which is alaraming to know that people don’t associate Hyundai much with high quality. The product managers necessarily have to look into quality issues and improve it, if they pride in high quality and pass that important distinction it has from other competitiors to its customers. Power and speed also need to improved, as one needs to be decenlty good in other attributes of the car to compete in the market\n",
    "###### Marketing managers: \n",
    "Hyundai is aagin an affordable brand and it has high lift among its competitors.The marketing managers can focus on improving their brand image with regard to low price to maintain their top position.\n",
    "\n",
    "#### Mazda : \n",
    "Their ad campaign was \"Zoom Zoom\" to describe driving as a pleasure.\n",
    "###### Product managers :\n",
    "For a care to be fun to drive,  quality becomes an important factor.Also the balance between power, speed and quality is crucial. The lift value of quality is close to 1. There needs to be immediate thought on how to improve the quality to compete with others in the market.\n",
    "###### Marketing Managers: \n",
    "They need to work on advertising on quality and work in unison with the product managers.\n",
    "\n",
    "#### Toyota: \n",
    "For toyota it was \"Moving forward\"  means a passion for innovation and discovery.\n",
    "###### Product Manager: \n",
    "People seem to asssociate toyota with very high quality which is a good news. It has the highest lift value among all its competitors. To help resonate among customers for innovation, the product managers have to work on improving the cars in terms of power and speed.\n",
    "###### Marketing Managers : \n",
    "Toyota has a decent lift value with respect to others interms of price, but the managers can further try to improve the image of the brand as very affordable to its high quality. \n"
   ]
  },
  {
   "cell_type": "markdown",
   "metadata": {},
   "source": [
    "### Which is the most aspirational brand in your data in terms of people actually wanting to buy or own? "
   ]
  },
  {
   "cell_type": "markdown",
   "metadata": {},
   "source": [
    "##### Approach: \n",
    "To detect if a brand is aspirational, I made a list of aspirational phrases and replaced these with the word \"aspiration\" in each of the posts. I then proceeded to calculate the lift of all the brands with the word \"aspiration\". The brand with the highest lift was deemed the most aspirational brand according to the people.\n",
    "The lift between the aspirational words and the brand is an indication of the people associating the \"aspirational\" sentiments with the brands."
   ]
  },
  {
   "cell_type": "code",
   "execution_count": 31,
   "metadata": {},
   "outputs": [],
   "source": [
    "## Read in the file with the aspirational words\n",
    "aspiration = pd.read_csv(\"aspiration.csv\")"
   ]
  },
  {
   "cell_type": "code",
   "execution_count": 32,
   "metadata": {},
   "outputs": [
    {
     "data": {
      "text/html": [
       "<div>\n",
       "<style scoped>\n",
       "    .dataframe tbody tr th:only-of-type {\n",
       "        vertical-align: middle;\n",
       "    }\n",
       "\n",
       "    .dataframe tbody tr th {\n",
       "        vertical-align: top;\n",
       "    }\n",
       "\n",
       "    .dataframe thead th {\n",
       "        text-align: right;\n",
       "    }\n",
       "</style>\n",
       "<table border=\"1\" class=\"dataframe\">\n",
       "  <thead>\n",
       "    <tr style=\"text-align: right;\">\n",
       "      <th></th>\n",
       "      <th>word</th>\n",
       "    </tr>\n",
       "  </thead>\n",
       "  <tbody>\n",
       "    <tr>\n",
       "      <th>0</th>\n",
       "      <td>hope</td>\n",
       "    </tr>\n",
       "    <tr>\n",
       "      <th>1</th>\n",
       "      <td>hope to</td>\n",
       "    </tr>\n",
       "    <tr>\n",
       "      <th>2</th>\n",
       "      <td>prefer</td>\n",
       "    </tr>\n",
       "    <tr>\n",
       "      <th>3</th>\n",
       "      <td>really want</td>\n",
       "    </tr>\n",
       "    <tr>\n",
       "      <th>4</th>\n",
       "      <td>dream of</td>\n",
       "    </tr>\n",
       "  </tbody>\n",
       "</table>\n",
       "</div>"
      ],
      "text/plain": [
       "          word\n",
       "0         hope\n",
       "1      hope to\n",
       "2       prefer\n",
       "3  really want\n",
       "4     dream of"
      ]
     },
     "execution_count": 32,
     "metadata": {},
     "output_type": "execute_result"
    }
   ],
   "source": [
    "aspiration.head()"
   ]
  },
  {
   "cell_type": "code",
   "execution_count": 33,
   "metadata": {},
   "outputs": [],
   "source": [
    "## Function to replace the aspirational phrases with the word - \"aspiration\"\n",
    "def asp_word_replace(comment):\n",
    "    for i in aspiration['word'].index.values:\n",
    "        comment = comment.lower().replace(aspiration['word'][i],'aspiration')\n",
    "    return comment"
   ]
  },
  {
   "cell_type": "code",
   "execution_count": 34,
   "metadata": {},
   "outputs": [],
   "source": [
    "posts[\"comments_replace\"] = posts[\"comments\"].apply(asp_word_replace)"
   ]
  },
  {
   "cell_type": "code",
   "execution_count": 35,
   "metadata": {},
   "outputs": [],
   "source": [
    "## Tokenize the comments and remove stop words after replacing the phrases by aspiration\n",
    "posts[\"comments_replace_tokens\"] = posts[\"comments_replace\"].apply(lambda each_post: word_tokenize(re.sub(r'[^\\w\\s]',' ',each_post.lower())))\n",
    "posts[\"comments_replace_tokens\"] = posts[\"comments_replace_tokens\"].apply(lambda list_of_words: [x if x not in model_brand_dict else model_brand_dict[x] for x in list_of_words])\n",
    "posts[\"comments_replace_tokens\"] = posts[\"comments_replace_tokens\"].apply(lambda list_of_words: [x for x in list_of_words if x not in stop])\n",
    "posts[\"comments_replace_tokens\"] = posts[\"comments_replace_tokens\"].apply(lambda x: sorted(set(x)))"
   ]
  },
  {
   "cell_type": "code",
   "execution_count": 36,
   "metadata": {},
   "outputs": [],
   "source": [
    "## Get the lift score for all brands and aspirational words\n",
    "lift_asp_brands = pd.DataFrame(columns=['Brand','Lift'])\n",
    "for index, brand_a in all_brands.iterrows():\n",
    "        lift_asp_brands = lift_asp_brands.append({'Brand': brand_a.brand, \"Lift\":calculate_lift(brand_a.brand, 'aspiration', posts.comments_replace_tokens)},\n",
    "                                        ignore_index=True)"
   ]
  },
  {
   "cell_type": "code",
   "execution_count": 37,
   "metadata": {},
   "outputs": [
    {
     "data": {
      "text/html": [
       "<div>\n",
       "<style scoped>\n",
       "    .dataframe tbody tr th:only-of-type {\n",
       "        vertical-align: middle;\n",
       "    }\n",
       "\n",
       "    .dataframe tbody tr th {\n",
       "        vertical-align: top;\n",
       "    }\n",
       "\n",
       "    .dataframe thead th {\n",
       "        text-align: right;\n",
       "    }\n",
       "</style>\n",
       "<table border=\"1\" class=\"dataframe\">\n",
       "  <thead>\n",
       "    <tr style=\"text-align: right;\">\n",
       "      <th></th>\n",
       "      <th>Brand</th>\n",
       "      <th>Lift</th>\n",
       "    </tr>\n",
       "  </thead>\n",
       "  <tbody>\n",
       "    <tr>\n",
       "      <th>28</th>\n",
       "      <td>mercedes</td>\n",
       "      <td>2.202886</td>\n",
       "    </tr>\n",
       "    <tr>\n",
       "      <th>23</th>\n",
       "      <td>volvo</td>\n",
       "      <td>2.080503</td>\n",
       "    </tr>\n",
       "    <tr>\n",
       "      <th>18</th>\n",
       "      <td>buick</td>\n",
       "      <td>1.913032</td>\n",
       "    </tr>\n",
       "    <tr>\n",
       "      <th>24</th>\n",
       "      <td>mercedes-benz</td>\n",
       "      <td>1.789845</td>\n",
       "    </tr>\n",
       "    <tr>\n",
       "      <th>27</th>\n",
       "      <td>suzuki</td>\n",
       "      <td>1.752296</td>\n",
       "    </tr>\n",
       "    <tr>\n",
       "      <th>13</th>\n",
       "      <td>volkswagen</td>\n",
       "      <td>1.577066</td>\n",
       "    </tr>\n",
       "    <tr>\n",
       "      <th>26</th>\n",
       "      <td>infiniti</td>\n",
       "      <td>1.542020</td>\n",
       "    </tr>\n",
       "    <tr>\n",
       "      <th>10</th>\n",
       "      <td>bmw</td>\n",
       "      <td>1.523367</td>\n",
       "    </tr>\n",
       "    <tr>\n",
       "      <th>21</th>\n",
       "      <td>lincoln</td>\n",
       "      <td>1.492277</td>\n",
       "    </tr>\n",
       "    <tr>\n",
       "      <th>9</th>\n",
       "      <td>subaru</td>\n",
       "      <td>1.485667</td>\n",
       "    </tr>\n",
       "  </tbody>\n",
       "</table>\n",
       "</div>"
      ],
      "text/plain": [
       "            Brand      Lift\n",
       "28       mercedes  2.202886\n",
       "23          volvo  2.080503\n",
       "18          buick  1.913032\n",
       "24  mercedes-benz  1.789845\n",
       "27         suzuki  1.752296\n",
       "13     volkswagen  1.577066\n",
       "26       infiniti  1.542020\n",
       "10            bmw  1.523367\n",
       "21        lincoln  1.492277\n",
       "9          subaru  1.485667"
      ]
     },
     "execution_count": 37,
     "metadata": {},
     "output_type": "execute_result"
    }
   ],
   "source": [
    "lift_asp_brands.sort_values(by='Lift',ascending=False).head(10)"
   ]
  },
  {
   "cell_type": "markdown",
   "metadata": {},
   "source": [
    "The Lift values indicate that Mercedes is the most aspirational brand, closely followed by Volvo. This would mean that a large number of the exposure audience wishes to own a Mercedes, but for some economic reasons, they cannot. \n",
    "An important point to note is that for an aspirational brand like Mercedes, there is a fair probability that a large part of the audience who currently cannot afford it, might be able to afford it in the future. \n",
    "Being a luxury-brand, Mercedes can do well if they produce bottom-feeder lux models that can draw the mainstream audience to affordable luxury nameplates. Furthermore, Mercedes can also capitalize on leasing. Majority of the luxury cars are leased which is more affordable for the mainstream audience. "
   ]
  }
 ],
 "metadata": {
  "kernelspec": {
   "display_name": "Python 3",
   "language": "python",
   "name": "python3"
  },
  "language_info": {
   "codemirror_mode": {
    "name": "ipython",
    "version": 3
   },
   "file_extension": ".py",
   "mimetype": "text/x-python",
   "name": "python",
   "nbconvert_exporter": "python",
   "pygments_lexer": "ipython3",
   "version": "3.7.4"
  }
 },
 "nbformat": 4,
 "nbformat_minor": 2
}
